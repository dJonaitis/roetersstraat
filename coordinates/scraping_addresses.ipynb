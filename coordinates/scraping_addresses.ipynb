{
 "cells": [
  {
   "cell_type": "code",
   "execution_count": 2,
   "metadata": {},
   "outputs": [],
   "source": [
    "from selenium import webdriver\n",
    "from selenium.webdriver.chrome.service import Service\n",
    "from webdriver_manager.chrome import ChromeDriverManager\n",
    "from selenium.webdriver.common.by import By\n",
    "from selenium.webdriver.common.keys import Keys\n",
    "from selenium.webdriver.chrome.service import Service\n",
    "from selenium.webdriver.chrome.webdriver import Options\n",
    "from selenium.webdriver.support.ui import WebDriverWait\n",
    "from selenium.webdriver.support import expected_conditions as EC\n",
    "import pandas as pd\n",
    "import time"
   ]
  },
  {
   "cell_type": "markdown",
   "metadata": {},
   "source": [
    "## Reading the used geojson-file's coordinates into Python"
   ]
  },
  {
   "cell_type": "code",
   "execution_count": 3,
   "metadata": {},
   "outputs": [
    {
     "name": "stdout",
     "output_type": "stream",
     "text": [
      "Defaulting to user installation because normal site-packages is not writeable\n",
      "Requirement already satisfied: geojson in c:\\users\\viggo\\appdata\\local\\packages\\pythonsoftwarefoundation.python.3.12_qbz5n2kfra8p0\\localcache\\local-packages\\python312\\site-packages (3.1.0)\n"
     ]
    }
   ],
   "source": [
    "!pip install geojson"
   ]
  },
  {
   "cell_type": "code",
   "execution_count": 13,
   "metadata": {},
   "outputs": [
    {
     "data": {
      "text/plain": [
       "[[4.901983, 52.369094],\n",
       " [4.901983, 52.359875],\n",
       " [4.923408, 52.359875],\n",
       " [4.923408, 52.369094],\n",
       " [4.901983, 52.369094]]"
      ]
     },
     "execution_count": 13,
     "metadata": {},
     "output_type": "execute_result"
    }
   ],
   "source": [
    "# Source for code: https://stackoverflow.com/questions/42753745/how-can-i-parse-geojson-with-python\n",
    "import geojson\n",
    "# Change this directory after with open to your relevant directory\n",
    "with open(\"C:/Users/viggo/Downloads/GitHub_repos/roetersstraat/abstreet/geojson.json\") as square:\n",
    "    model_boundaries = geojson.load(square)\n",
    "# Saving the features of the geojson file to a variable\n",
    "features = model_boundaries['features']\n",
    "\n",
    "# Only saving the coordinates of the geojson\n",
    "coordinates_geojson = features[0][\"geometry\"][\"coordinates\"][0]\n",
    "coordinates_geojson"
   ]
  },
  {
   "cell_type": "code",
   "execution_count": 15,
   "metadata": {},
   "outputs": [
    {
     "data": {
      "text/plain": [
       "[[4.901983, 52.369094],\n",
       " [4.901983, 52.359875],\n",
       " [4.923408, 52.359875],\n",
       " [4.923408, 52.369094]]"
      ]
     },
     "execution_count": 15,
     "metadata": {},
     "output_type": "execute_result"
    }
   ],
   "source": [
    "# Due to some coordinates appearing twice in the geojson coordinates variable, only unique coordinates will be saved\n",
    "geojson_coordinates = []\n",
    "for coordinates in coordinates_geojson:\n",
    "    if coordinates not in geojson_coordinates:\n",
    "        geojson_coordinates.append(coordinates)\n",
    "\n",
    "geojson_coordinates"
   ]
  },
  {
   "cell_type": "markdown",
   "metadata": {},
   "source": [
    "## Getting exact locations from the Kadasterregister map corresponding to coordinates from geojson"
   ]
  },
  {
   "cell_type": "markdown",
   "metadata": {},
   "source": [
    "Following a process of pinpointing the geojson coordinates on a Google My Maps-file and creating the square there as well, these coordinates where pinpointed as accurately as humanly possible on the map on the Kadasterregister website (available here: https://bagviewer.kadaster.nl/lvbag/bag-viewer/?zoomlevel=1). This website does not utilise coordinates at all and uses a seperate x-y-axis system. THe following values got out of this system after pinpointing the locations:"
   ]
  },
  {
   "cell_type": "code",
   "execution_count": 22,
   "metadata": {},
   "outputs": [],
   "source": [
    "# Getting the Kadasterregister x and y-values that are relevant for the geojson-file\n",
    "bag_coordinates = [[121946.73, 485884.65], [123429.29, 485895.45], [123414.96, 486899.86], [121942.62, 486918.21]]\n",
    "bag_coordinate = [[121942.00, 485884.00], [123430.00, 486919.00]]"
   ]
  },
  {
   "cell_type": "code",
   "execution_count": 23,
   "metadata": {},
   "outputs": [],
   "source": [
    "# Setting x and y-values for beginning and ending values\n",
    "x_begin = 121942.00\n",
    "x_end = 123430.00\n",
    "y_begin = 485884.00\n",
    "y_end = 486919.00\n",
    "\n",
    "# Setting x_now and y_now\n",
    "x_now = x_begin\n",
    "y_now = y_begin"
   ]
  },
  {
   "cell_type": "code",
   "execution_count": 25,
   "metadata": {},
   "outputs": [],
   "source": [
    "# Looping over all values in between x_begin and x_end and y_begin and y_end, where it loops over all y-values in steps of 1.00 for every x-value\n",
    "while x_now <= x_end:\n",
    "    while y_now <= y_end:\n",
    "        # print([x_now, y_now])\n",
    "\n",
    "        y_now += 1\n",
    "\n",
    "    y_now = y_begin\n",
    "    x_now += 1"
   ]
  },
  {
   "cell_type": "markdown",
   "metadata": {},
   "source": [
    "## Scraping addresses from the Kadasterregister"
   ]
  },
  {
   "cell_type": "code",
   "execution_count": 6,
   "metadata": {},
   "outputs": [],
   "source": [
    "# Creating a list with URLs to scrape addresses from\n",
    "url_list = [\"https://bagviewer.kadaster.nl/lvbag/bag-viewer/?objectId=0363100012181099&theme=BRT+Achtergrond&geometry.x=122518.23449999999&geometry.y=486193.337&zoomlevel=15&bijbehorendeAdressen=Pand\", \"https://bagviewer.kadaster.nl/lvbag/bag-viewer/?objectId=0363100012181081&theme=BRT+Achtergrond&geometry.x=122485.011&geometry.y=486135.5375&zoomlevel=15&bijbehorendeAdressen=Pand\", \"https://bagviewer.kadaster.nl/lvbag/bag-viewer/?objectId=0363100012253901&theme=BRT+Achtergrond&geometry.x=122536.796&geometry.y=486176.6535&zoomlevel=15&bijbehorendeAdressen=Pand\"]\n",
    "# Creating an empty list to store the addresses and latitudes and longitudes in\n",
    "all_scraped_addresses = []"
   ]
  },
  {
   "cell_type": "code",
   "execution_count": 7,
   "metadata": {},
   "outputs": [],
   "source": [
    "driver = webdriver.Chrome(service=Service(ChromeDriverManager().install()))\n",
    "\n",
    "for i in url_list:\n",
    "    # Getting url from url_list\n",
    "    driver.get(i)\n",
    "    \n",
    "    try:\n",
    "        # Fetching the sidebar where all address information is present\n",
    "        sidebar = WebDriverWait(driver, 10).until(\n",
    "        EC.presence_of_element_located((By.XPATH, \"//app-root//app-sidebar\"))\n",
    "        )\n",
    "        \n",
    "        # Find the element mentioning the amount of buildings in that block\n",
    "        amount_buildings = sidebar.find_elements(By.XPATH, \".//h2\")\n",
    "        \n",
    "        # Create a variable containing only a number for the amount of buildings in the block\n",
    "        if len(amount_buildings) >= 2:\n",
    "            amount_addresses = amount_buildings[1].text\n",
    "            number_addresses = int(amount_addresses.split()[0])\n",
    "\n",
    "        # Fetching the addresses if the number of addresses is less than or equal to 5    \n",
    "        if number_addresses <= 5:\n",
    "            # Locating the addresses in the sidebar\n",
    "            buttons_houses = sidebar.find_elements(By.XPATH, \"//app-root//app-sidebar//sidebar-overzicht//ul//li//a//span\")\n",
    "\n",
    "            # Adding the addresses to the list into seperate sublists\n",
    "            for button in buttons_houses:\n",
    "                address_text = button.text\n",
    "                all_scraped_addresses.append([address_text])\n",
    "    \n",
    "        # Fetching the addresses if the number of addresses is bigger than 5\n",
    "        elif number_addresses > 5:\n",
    "            # Locating the text connected to the button showing all buildings in the block\n",
    "            button_more_houses = sidebar.find_elements(By.XPATH, \".//a//span\")\n",
    "\n",
    "            if len(button_more_houses) >= 9:\n",
    "                # Clicking the button connected to the previously mentioned text\n",
    "                parent_button = button_more_houses[8].find_element(By.XPATH, \"./parent::a\")\n",
    "                parent_button.click()\n",
    "        \n",
    "            # Locating the addresses within the sidebar\n",
    "            houses_buttons = sidebar.find_elements(By.XPATH, \"//app-root//app-sidebar-left//table//tbody//tr//ul//li\")\n",
    "        \n",
    "            # Adding the addresses into to the list into seperate sublists\n",
    "            for button in houses_buttons:\n",
    "                address_text = button.text\n",
    "                all_scraped_addresses.append([address_text])\n",
    "\n",
    "        # Pause the search for a bit, so to not overwhelm the website\n",
    "        time.sleep(1)\n",
    "\n",
    "    except Exception as e:\n",
    "        print(f\"Error {e}\")\n",
    "\n",
    "driver.quit()"
   ]
  },
  {
   "cell_type": "code",
   "execution_count": 8,
   "metadata": {},
   "outputs": [
    {
     "name": "stdout",
     "output_type": "stream",
     "text": [
      "[['Nieuwe Achtergracht 142 A1, Amsterdam'], ['Nieuwe Achtergracht 142 A2, Amsterdam'], ['Nieuwe Achtergracht 142 A3, Amsterdam'], ['Nieuwe Achtergracht 142 A4, Amsterdam'], ['Nieuwe Achtergracht 142 B1, Amsterdam'], ['Nieuwe Achtergracht 142 B2, Amsterdam'], ['Nieuwe Achtergracht 142 B3, Amsterdam'], ['Nieuwe Achtergracht 142 B4, Amsterdam'], ['Nieuwe Achtergracht 142 C1, Amsterdam'], ['Nieuwe Achtergracht 142 C2, Amsterdam'], ['Nieuwe Achtergracht 142 C3, Amsterdam'], ['Nieuwe Achtergracht 142 C4, Amsterdam'], ['Nieuwe Achtergracht 142 D1, Amsterdam'], ['Nieuwe Achtergracht 142 D2, Amsterdam'], ['Nieuwe Achtergracht 142 D3, Amsterdam'], ['Nieuwe Achtergracht 142 D4, Amsterdam'], ['Roetersstraat 170, Amsterdam'], ['Valckenierstraat 29 A, Amsterdam'], ['Valckenierstraat 29 B, Amsterdam'], ['Valckenierstraat 29 C, Amsterdam'], ['Valckenierstraat 29 D, Amsterdam'], ['Valckenierstraat 29 E, Amsterdam'], ['Valckenierstraat 29 F, Amsterdam'], ['Valckenierstraat 29 G, Amsterdam'], ['Valckenierstraat 29 H, Amsterdam'], ['Roetersstraat 170, Amsterdam'], ['Roetersstraat 172, Amsterdam']]\n"
     ]
    }
   ],
   "source": [
    "print(all_scraped_addresses)"
   ]
  },
  {
   "cell_type": "markdown",
   "metadata": {},
   "source": [
    "## Using geopy to fill the list with further info needed for each building "
   ]
  },
  {
   "cell_type": "code",
   "execution_count": 9,
   "metadata": {},
   "outputs": [
    {
     "name": "stdout",
     "output_type": "stream",
     "text": [
      "Defaulting to user installation because normal site-packages is not writeable\n",
      "Requirement already satisfied: geopy in c:\\users\\viggo\\appdata\\local\\packages\\pythonsoftwarefoundation.python.3.12_qbz5n2kfra8p0\\localcache\\local-packages\\python312\\site-packages (2.4.1)\n",
      "Requirement already satisfied: geographiclib<3,>=1.52 in c:\\users\\viggo\\appdata\\local\\packages\\pythonsoftwarefoundation.python.3.12_qbz5n2kfra8p0\\localcache\\local-packages\\python312\\site-packages (from geopy) (2.0)\n"
     ]
    }
   ],
   "source": [
    "!pip install geopy"
   ]
  },
  {
   "cell_type": "code",
   "execution_count": 10,
   "metadata": {},
   "outputs": [
    {
     "name": "stdout",
     "output_type": "stream",
     "text": [
      "Kriterion, 170, Roetersstraat, Weesperbuurt, Centrum, Amsterdam, Noord-Holland, Nederland, 1018 WE, Nederland\n",
      "(52.362493, 4.9106652)\n",
      "{'place_id': 144946830, 'licence': 'Data © OpenStreetMap contributors, ODbL 1.0. http://osm.org/copyright', 'osm_type': 'node', 'osm_id': 253130481, 'lat': '52.362493', 'lon': '4.9106652', 'class': 'amenity', 'type': 'cinema', 'place_rank': 30, 'importance': 0.2522941968270874, 'addresstype': 'amenity', 'name': 'Kriterion', 'display_name': 'Kriterion, 170, Roetersstraat, Weesperbuurt, Centrum, Amsterdam, Noord-Holland, Nederland, 1018 WE, Nederland', 'boundingbox': ['52.3624430', '52.3625430', '4.9106152', '4.9107152']}\n"
     ]
    }
   ],
   "source": [
    "# Test for using geopy on the dataset\n",
    "from geopy.geocoders import Nominatim\n",
    "geolocator = Nominatim(user_agent=\"scraping_addresses.ipynb\")\n",
    "location = geolocator.geocode(\"Roetersstraat 170\\n1018 WE  AMSTERDAM\")\n",
    "print(location.address)\n",
    "print((location.latitude, location.longitude))\n",
    "print(location.raw)"
   ]
  },
  {
   "cell_type": "code",
   "execution_count": 11,
   "metadata": {},
   "outputs": [],
   "source": [
    "# Looping over all previously added addresses and getting their relevant latitudes, longitudes and function\n",
    "# Source for code: https://stackoverflow.com/questions/5807195/how-to-get-coordinates-of-address-from-python\n",
    "for sublist in all_scraped_addresses:\n",
    "    address = sublist[0]\n",
    "    try:\n",
    "        location = geolocator.geocode(address)\n",
    "        if location:\n",
    "            # Add latitude, longitude and function to the sublist\n",
    "            sublist.append(location.latitude)\n",
    "            sublist.append(location.longitude)\n",
    "            sublist.append(location.raw[\"type\"])\n",
    "            # Adding the name of the building if it is present, otherwise add None to the sublist\n",
    "            if location.raw[\"name\"] == \"\":\n",
    "                sublist.append(None)\n",
    "            else:\n",
    "                sublist.append(location.raw[\"name\"])\n",
    "        else:\n",
    "            # Appending None if the location is not found\n",
    "            sublist.append(None)\n",
    "            sublist.append(None)\n",
    "            sublist.append(None)\n",
    "            sublist.append(None)\n",
    "        \n",
    "        # Adding a sleep time to comply towards usage policies\n",
    "        time.sleep(1)\n",
    "\n",
    "\n",
    "    except Exception as e:\n",
    "        print(f\"Error occurred for address {address}: {e}\")\n",
    "        "
   ]
  },
  {
   "cell_type": "code",
   "execution_count": 12,
   "metadata": {},
   "outputs": [
    {
     "name": "stdout",
     "output_type": "stream",
     "text": [
      "[['Nieuwe Achtergracht 142 A1, Amsterdam', 52.3627638, 4.9102335, 'house', None], ['Nieuwe Achtergracht 142 A2, Amsterdam', 52.3627637, 4.9102337, 'house', None], ['Nieuwe Achtergracht 142 A3, Amsterdam', 52.3627636, 4.9102338, 'house', None], ['Nieuwe Achtergracht 142 A4, Amsterdam', 52.3627634, 4.910234, 'house', None], ['Nieuwe Achtergracht 142 B1, Amsterdam', 52.3627459, 4.9102483, 'house', None], ['Nieuwe Achtergracht 142 B2, Amsterdam', 52.3627458, 4.9102485, 'house', None], ['Nieuwe Achtergracht 142 B3, Amsterdam', 52.3627457, 4.9102486, 'house', None], ['Nieuwe Achtergracht 142 B4, Amsterdam', 52.3627456, 4.9102488, 'house', None], ['Nieuwe Achtergracht 142 C1, Amsterdam', 52.3627279, 4.9102485, 'house', None], ['Nieuwe Achtergracht 142 C2, Amsterdam', 52.3627278, 4.9102487, 'house', None], ['Nieuwe Achtergracht 142 C3, Amsterdam', 52.3627277, 4.9102488, 'house', None], ['Nieuwe Achtergracht 142 C4, Amsterdam', 52.3627276, 4.910249, 'house', None], ['Nieuwe Achtergracht 142 D1, Amsterdam', 52.3627189, 4.9102486, 'house', None], ['Nieuwe Achtergracht 142 D2, Amsterdam', 52.3627188, 4.9102488, 'house', None], ['Nieuwe Achtergracht 142 D3, Amsterdam', 52.3627187, 4.9102489, 'house', None], ['Nieuwe Achtergracht 142 D4, Amsterdam', 52.3627186, 4.9102491, 'house', None], ['Roetersstraat 170, Amsterdam', 52.362493, 4.9106652, 'cinema', 'Kriterion'], ['Valckenierstraat 29 A, Amsterdam', 52.362142, 4.9098291, 'house', None], ['Valckenierstraat 29 B, Amsterdam', 52.362142, 4.9098293, 'house', None], ['Valckenierstraat 29 C, Amsterdam', 52.3621421, 4.9098295, 'house', None], ['Valckenierstraat 29 D, Amsterdam', 52.3621421, 4.9098297, 'house', None], ['Valckenierstraat 29 E, Amsterdam', 52.3621421, 4.9098299, 'house', None], ['Valckenierstraat 29 F, Amsterdam', 52.3621422, 4.9098301, 'house', None], ['Valckenierstraat 29 G, Amsterdam', 52.3621422, 4.9098303, 'house', None], ['Valckenierstraat 29 H, Amsterdam', 52.3621423, 4.9098305, 'house', None], ['Roetersstraat 170, Amsterdam', 52.362493, 4.9106652, 'cinema', 'Kriterion'], ['Roetersstraat 172, Amsterdam', 52.3625015, 4.9107568, 'house', None]]\n"
     ]
    }
   ],
   "source": [
    "print(all_scraped_addresses)"
   ]
  }
 ],
 "metadata": {
  "kernelspec": {
   "display_name": "Python 3",
   "language": "python",
   "name": "python3"
  },
  "language_info": {
   "codemirror_mode": {
    "name": "ipython",
    "version": 3
   },
   "file_extension": ".py",
   "mimetype": "text/x-python",
   "name": "python",
   "nbconvert_exporter": "python",
   "pygments_lexer": "ipython3",
   "version": "3.12.7"
  }
 },
 "nbformat": 4,
 "nbformat_minor": 2
}
