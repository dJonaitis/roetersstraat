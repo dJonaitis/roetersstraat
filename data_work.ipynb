{
 "cells": [
  {
   "cell_type": "code",
   "execution_count": 1,
   "metadata": {},
   "outputs": [],
   "source": [
    "import pandas as pd\n",
    "import matplotlib.pyplot as plt"
   ]
  },
  {
   "cell_type": "code",
   "execution_count": 11,
   "metadata": {},
   "outputs": [
    {
     "data": {
      "text/html": [
       "<div>\n",
       "<style scoped>\n",
       "    .dataframe tbody tr th:only-of-type {\n",
       "        vertical-align: middle;\n",
       "    }\n",
       "\n",
       "    .dataframe tbody tr th {\n",
       "        vertical-align: top;\n",
       "    }\n",
       "\n",
       "    .dataframe thead th {\n",
       "        text-align: right;\n",
       "    }\n",
       "</style>\n",
       "<table border=\"1\" class=\"dataframe\">\n",
       "  <thead>\n",
       "    <tr style=\"text-align: right;\">\n",
       "      <th></th>\n",
       "      <th>date</th>\n",
       "      <th>lesson_time</th>\n",
       "      <th>code</th>\n",
       "      <th>location</th>\n",
       "      <th>size</th>\n",
       "    </tr>\n",
       "  </thead>\n",
       "  <tbody>\n",
       "    <tr>\n",
       "      <th>0</th>\n",
       "      <td>Monday, 4 November 2024</td>\n",
       "      <td>09:00 - 11:00</td>\n",
       "      <td>6011P0168Y</td>\n",
       "      <td>REC M1.01</td>\n",
       "      <td>220</td>\n",
       "    </tr>\n",
       "    <tr>\n",
       "      <th>1</th>\n",
       "      <td>Monday, 4 November 2024</td>\n",
       "      <td>09:00 - 11:00</td>\n",
       "      <td>6011P0283Y</td>\n",
       "      <td>REC A0.01</td>\n",
       "      <td>450</td>\n",
       "    </tr>\n",
       "    <tr>\n",
       "      <th>2</th>\n",
       "      <td>Monday, 4 November 2024</td>\n",
       "      <td>09:00 - 11:00</td>\n",
       "      <td>6011P0209Y</td>\n",
       "      <td>REC M3.02 (HLT)</td>\n",
       "      <td>450</td>\n",
       "    </tr>\n",
       "    <tr>\n",
       "      <th>3</th>\n",
       "      <td>Monday, 4 November 2024</td>\n",
       "      <td>09:00 - 11:00</td>\n",
       "      <td>6012B0423Y</td>\n",
       "      <td>REC V2.03</td>\n",
       "      <td>35</td>\n",
       "    </tr>\n",
       "    <tr>\n",
       "      <th>4</th>\n",
       "      <td>Monday, 4 November 2024</td>\n",
       "      <td>09:00 - 11:00</td>\n",
       "      <td>6012B0424Y</td>\n",
       "      <td>REC E0.22 (Active Learning Space)</td>\n",
       "      <td>40</td>\n",
       "    </tr>\n",
       "  </tbody>\n",
       "</table>\n",
       "</div>"
      ],
      "text/plain": [
       "                      date    lesson_time        code  \\\n",
       "0  Monday, 4 November 2024  09:00 - 11:00  6011P0168Y   \n",
       "1  Monday, 4 November 2024  09:00 - 11:00  6011P0283Y   \n",
       "2  Monday, 4 November 2024  09:00 - 11:00  6011P0209Y   \n",
       "3  Monday, 4 November 2024  09:00 - 11:00  6012B0423Y   \n",
       "4  Monday, 4 November 2024  09:00 - 11:00  6012B0424Y   \n",
       "\n",
       "                            location  size  \n",
       "0                          REC M1.01   220  \n",
       "1                          REC A0.01   450  \n",
       "2                    REC M3.02 (HLT)   450  \n",
       "3                          REC V2.03    35  \n",
       "4  REC E0.22 (Active Learning Space)    40  "
      ]
     },
     "execution_count": 11,
     "metadata": {},
     "output_type": "execute_result"
    }
   ],
   "source": [
    "df = pd.read_csv('calendar_week_nov_4_8_2024.csv')\n",
    "df.head()"
   ]
  },
  {
   "cell_type": "code",
   "execution_count": 13,
   "metadata": {},
   "outputs": [
    {
     "name": "stdout",
     "output_type": "stream",
     "text": [
      "Old length: 3835\n",
      "New length: 3835\n"
     ]
    },
    {
     "data": {
      "text/html": [
       "<div>\n",
       "<style scoped>\n",
       "    .dataframe tbody tr th:only-of-type {\n",
       "        vertical-align: middle;\n",
       "    }\n",
       "\n",
       "    .dataframe tbody tr th {\n",
       "        vertical-align: top;\n",
       "    }\n",
       "\n",
       "    .dataframe thead th {\n",
       "        text-align: right;\n",
       "    }\n",
       "</style>\n",
       "<table border=\"1\" class=\"dataframe\">\n",
       "  <thead>\n",
       "    <tr style=\"text-align: right;\">\n",
       "      <th></th>\n",
       "      <th>date</th>\n",
       "      <th>lesson_time</th>\n",
       "      <th>code</th>\n",
       "      <th>location</th>\n",
       "      <th>size</th>\n",
       "    </tr>\n",
       "  </thead>\n",
       "  <tbody>\n",
       "    <tr>\n",
       "      <th>0</th>\n",
       "      <td>Monday, 4 November 2024</td>\n",
       "      <td>09:00 - 11:00</td>\n",
       "      <td>6011P0168Y</td>\n",
       "      <td>REC M1.01</td>\n",
       "      <td>220</td>\n",
       "    </tr>\n",
       "    <tr>\n",
       "      <th>1</th>\n",
       "      <td>Monday, 4 November 2024</td>\n",
       "      <td>09:00 - 11:00</td>\n",
       "      <td>6011P0283Y</td>\n",
       "      <td>REC A0.01</td>\n",
       "      <td>450</td>\n",
       "    </tr>\n",
       "    <tr>\n",
       "      <th>2</th>\n",
       "      <td>Monday, 4 November 2024</td>\n",
       "      <td>09:00 - 11:00</td>\n",
       "      <td>6011P0209Y</td>\n",
       "      <td>REC M3.02 (HLT)</td>\n",
       "      <td>450</td>\n",
       "    </tr>\n",
       "    <tr>\n",
       "      <th>3</th>\n",
       "      <td>Monday, 4 November 2024</td>\n",
       "      <td>09:00 - 11:00</td>\n",
       "      <td>6012B0423Y</td>\n",
       "      <td>REC V2.03</td>\n",
       "      <td>35</td>\n",
       "    </tr>\n",
       "    <tr>\n",
       "      <th>4</th>\n",
       "      <td>Monday, 4 November 2024</td>\n",
       "      <td>09:00 - 11:00</td>\n",
       "      <td>6012B0424Y</td>\n",
       "      <td>REC E0.22 (Active Learning Space)</td>\n",
       "      <td>40</td>\n",
       "    </tr>\n",
       "  </tbody>\n",
       "</table>\n",
       "</div>"
      ],
      "text/plain": [
       "                      date    lesson_time        code  \\\n",
       "0  Monday, 4 November 2024  09:00 - 11:00  6011P0168Y   \n",
       "1  Monday, 4 November 2024  09:00 - 11:00  6011P0283Y   \n",
       "2  Monday, 4 November 2024  09:00 - 11:00  6011P0209Y   \n",
       "3  Monday, 4 November 2024  09:00 - 11:00  6012B0423Y   \n",
       "4  Monday, 4 November 2024  09:00 - 11:00  6012B0424Y   \n",
       "\n",
       "                            location  size  \n",
       "0                          REC M1.01   220  \n",
       "1                          REC A0.01   450  \n",
       "2                    REC M3.02 (HLT)   450  \n",
       "3                          REC V2.03    35  \n",
       "4  REC E0.22 (Active Learning Space)    40  "
      ]
     },
     "execution_count": 13,
     "metadata": {},
     "output_type": "execute_result"
    }
   ],
   "source": [
    "# Filter all events that are not in REC\n",
    "print(f\"Old length: {len(df)}\")\n",
    "df = df[df['location'].str.contains('REC')]\n",
    "print(f\"New length: {len(df)}\")\n",
    "df.head()\n"
   ]
  },
  {
   "cell_type": "code",
   "execution_count": 23,
   "metadata": {},
   "outputs": [
    {
     "data": {
      "image/png": "[encoded data removed]",
      "text/plain": [
       "<Figure size 640x480 with 1 Axes>"
      ]
     },
     "metadata": {},
     "output_type": "display_data"
    }
   ],
   "source": [
    "df['size'].hist(bins=100)\n",
    "plt.xlabel('Size')\n",
    "plt.ylabel('Frequency')\n",
    "plt.title('Histogram of event sizes')\n",
    "plt.grid(True)\n",
    "plt.tight_layout()\n",
    "plt.show()"
   ]
  }
 ],
 "metadata": {
  "kernelspec": {
   "display_name": "Python 3",
   "language": "python",
   "name": "python3"
  },
  "language_info": {
   "codemirror_mode": {
    "name": "ipython",
    "version": 3
   },
   "file_extension": ".py",
   "mimetype": "text/x-python",
   "name": "python",
   "nbconvert_exporter": "python",
   "pygments_lexer": "ipython3",
   "version": "3.10.6"
  }
 },
 "nbformat": 4,
 "nbformat_minor": 2
}
